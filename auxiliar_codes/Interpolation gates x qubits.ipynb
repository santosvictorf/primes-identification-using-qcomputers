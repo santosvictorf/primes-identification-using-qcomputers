{
 "cells": [
  {
   "cell_type": "code",
   "execution_count": null,
   "id": "5e9573bb-d86b-4f4d-be43-f20fd264da05",
   "metadata": {},
   "outputs": [],
   "source": [
    "\"\"\"This code is complementary to the code 'Walsh angles from definition'. \n",
    "Here, we use the number of gates obtained for each number of qubits q in that code and then\n",
    "we analyze the interpolation of gates x qubits. The expected result is exponential, but turns out to be quadratic.\"\"\""
   ]
  },
  {
   "cell_type": "code",
   "execution_count": null,
   "id": "f3c076a2-7923-48b2-bb20-184c8a5b74b8",
   "metadata": {},
   "outputs": [],
   "source": [
    "import numpy as np\n",
    "import matplotlib.pyplot as plt"
   ]
  },
  {
   "cell_type": "code",
   "execution_count": null,
   "id": "d0e7edc4-a351-45dc-8239-9c9140421e8d",
   "metadata": {},
   "outputs": [],
   "source": [
    "# Array for the number of qubits q\n",
    "q_data = [2, 4, 6, 8, 10, 12, 14]\n",
    "\n",
    "# Array for the number of gates necessary for q qubits\n",
    "gates_data = [5, 16, 33, 56, 85, 120, 161]\n",
    "\n",
    "# Start interpolation\n",
    "# Create Vandermonde matrix\n",
    "vander_matrix = np.vander(q_data, increasing=True)\n",
    "\n",
    "# Solve the linear system\n",
    "coefficients = np.linalg.solve(vander_matrix, gates_data)\n",
    "\n",
    "# Show the coefficients of the interpolated polynomial\n",
    "print (\"Polynomial coefficients in increasing order as a function of q qubits:\",coefficients)\n",
    "\n",
    "# Function for interpolation\n",
    "interpolate_func = lambda u: sum(coefficients[i] * (u**i) for i in range(len(q_data)))\n",
    "\n",
    "# Plotting\n",
    "q_continuous = np.linspace(2, max(q_data), 500)\n",
    "plt.scatter(q_data, gates_data, marker='o', linestyle='-', label='Gates', color='orange')\n",
    "plt.plot(q_continuous, interpolate_func(q_continuous), label='Interpolation', color='blue')\n",
    "plt.legend()\n",
    "plt.show()"
   ]
  }
 ],
 "metadata": {
  "kernelspec": {
   "display_name": "Python 3 (ipykernel)",
   "language": "python",
   "name": "python3"
  },
  "language_info": {
   "codemirror_mode": {
    "name": "ipython",
    "version": 3
   },
   "file_extension": ".py",
   "mimetype": "text/x-python",
   "name": "python",
   "nbconvert_exporter": "python",
   "pygments_lexer": "ipython3",
   "version": "3.11.3"
  }
 },
 "nbformat": 4,
 "nbformat_minor": 5
}
