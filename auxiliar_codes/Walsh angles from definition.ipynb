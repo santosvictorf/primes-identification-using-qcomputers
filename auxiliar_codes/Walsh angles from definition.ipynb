{
 "cells": [
  {
   "cell_type": "code",
   "execution_count": null,
   "id": "911011f5-3449-4bb0-949a-5393269617f1",
   "metadata": {},
   "outputs": [],
   "source": [
    "\"\"\"This code calculates from their definition the non-zero Walsh angles of the diagonal unitary U(t).\n",
    "Then, it also calculates the number of gates (rotations and cnots) necessary to implement U(t).\"\"\""
   ]
  },
  {
   "cell_type": "code",
   "execution_count": null,
   "id": "5b29dab8-d76b-4657-84ac-47a5141a4051",
   "metadata": {},
   "outputs": [],
   "source": [
    "import numpy as np"
   ]
  },
  {
   "cell_type": "code",
   "execution_count": null,
   "id": "57493734-aa6c-476b-b17c-ebba02971312",
   "metadata": {},
   "outputs": [],
   "source": [
    "# Choose any dimension d\n",
    "d = 16"
   ]
  },
  {
   "cell_type": "code",
   "execution_count": null,
   "id": "37affba5-57d9-44f2-bfb0-e7225eff003a",
   "metadata": {},
   "outputs": [],
   "source": [
    "# Number of qubits\n",
    "q = 2 * int(np.ceil(np.log(d) / np.log(2)))\n",
    "\n",
    "# Discretize the interval x = [0,1) into N = 2^q parts\n",
    "x = [i / 2**q for i in range(2**q)]"
   ]
  },
  {
   "cell_type": "code",
   "execution_count": null,
   "id": "7a63a04a-ceb9-45dd-a17d-3b163f1b0e7b",
   "metadata": {},
   "outputs": [],
   "source": [
    "def binary_expansion(integer):\n",
    "    # Returns the binary expansion of an integer.\n",
    "    binary_representation = bin(integer)[2:]\n",
    "    return [int(bit) for bit in binary_representation][::-1]\n",
    "\n",
    "def dyadic_expansion(number):\n",
    "    # Returns the dyadic expansion of an integer\n",
    "    coefficients = []\n",
    "    while number > 0:\n",
    "        number *= 2\n",
    "        whole_part = int(number)\n",
    "        coefficients.append(whole_part)\n",
    "        number -= whole_part\n",
    "    return coefficients"
   ]
  },
  {
   "cell_type": "code",
   "execution_count": null,
   "id": "6673edab-e22f-4557-812d-afce087a023f",
   "metadata": {},
   "outputs": [],
   "source": [
    "# Initialize matrices\n",
    "binj = np.zeros((2**q, q), dtype=int)\n",
    "dyadj = np.zeros((2**q, q), dtype=int)\n",
    "wjk = np.zeros((2**q, 2**q), dtype=int)\n",
    "\n",
    "# Populate binj and dyadj matrices\n",
    "for i in range(2**q):\n",
    "    bin_expansion_i = binary_expansion(i)[:q] + [0] * (q - len(binary_expansion(i)))\n",
    "    dyad_expansion_i = dyadic_expansion(x[i])[:q] + [0] * (q - len(dyadic_expansion(x[i])))\n",
    "    \n",
    "    binj[i, :] = bin_expansion_i\n",
    "    dyadj[i, :] = dyad_expansion_i\n",
    "\n",
    "# Calculate the Walsh matrix wjk\n",
    "for j in range(2**q):\n",
    "    for k in range(2**q):\n",
    "        wjk[j, k] = (-1)**sum(binary * dyadic for binary, dyadic in zip(binary_expansion(j), dyadic_expansion(x[k])))"
   ]
  },
  {
   "cell_type": "code",
   "execution_count": null,
   "id": "5d7966e4-65a1-4aa7-aa99-fd8c445e9724",
   "metadata": {},
   "outputs": [],
   "source": [
    "# Calculate vector f, specific to the diagonal unitary U(t)\n",
    "fk = np.zeros(2**q, dtype=int)\n",
    "for l in range(1, int(2**(q/2)) + 1):\n",
    "    fk[(l-1)*int(2**(q/2)) : l*int(2**(q/2))] = [l*p for p in range(1, int(2**(q/2))+1)]\n",
    "\n",
    "# Compute Walsh angles a_j\n",
    "a_j = np.dot(wjk, fk)\n",
    "\n",
    "# Identify and count non-zero indices\n",
    "non_zero_indices = [i for i, value in enumerate(a_j) if value != 0]\n",
    "print(\"Indices with non-zero Walsh angles:\", non_zero_indices)\n",
    "\n",
    "# Show the angles a_j, excluding a_{0}\n",
    "print(\"Non-zero Walsh angles:\")\n",
    "for i in non_zero_indices:\n",
    "    if i == 0:  # Skip i = 0\n",
    "        continue\n",
    "    print(f'a_{i} =', np.array(a_j[i]))"
   ]
  },
  {
   "cell_type": "code",
   "execution_count": null,
   "id": "a9ca4bcb-4c89-40d5-b04a-9cb4e0d23341",
   "metadata": {},
   "outputs": [],
   "source": [
    "# Function to calculate Hamming weight of an integer j\n",
    "def hamming_weight(j):\n",
    "    return bin(j).count('1')\n",
    "    \n",
    "# Number of total rotations\n",
    "rot = len(non_zero_indices) - 1\n",
    "# Calculate total gates\n",
    "total_gates = sum(2 * (hamming_weight(non_zero_indices[i]) - 1) for i in range(1, rot + 1)) + rot\n",
    "\n",
    "# Show the total number of non-zero indices and the total number of gates necessary to implement U(t)\n",
    "print(f\"Number of non-zero indices: {rot}\")\n",
    "print(f\"Total number of gates: {total_gates}\")"
   ]
  }
 ],
 "metadata": {
  "kernelspec": {
   "display_name": "Python 3 (ipykernel)",
   "language": "python",
   "name": "python3"
  },
  "language_info": {
   "codemirror_mode": {
    "name": "ipython",
    "version": 3
   },
   "file_extension": ".py",
   "mimetype": "text/x-python",
   "name": "python",
   "nbconvert_exporter": "python",
   "pygments_lexer": "ipython3",
   "version": "3.11.3"
  }
 },
 "nbformat": 4,
 "nbformat_minor": 5
}
