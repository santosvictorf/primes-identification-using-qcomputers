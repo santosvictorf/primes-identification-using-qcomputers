{
 "cells": [
  {
   "cell_type": "code",
   "execution_count": null,
   "id": "6e0af70b-fc50-4e99-ad7f-d70696f9f2e1",
   "metadata": {},
   "outputs": [],
   "source": [
    "\"\"\"This code is used to calculate the analytical Fourier modes and to draw their distribution in a graph.\"\"\" "
   ]
  },
  {
   "cell_type": "code",
   "execution_count": null,
   "id": "2e301eba-bd6c-4028-999d-ec1bf5970f8b",
   "metadata": {},
   "outputs": [],
   "source": [
    "import numpy as np\n",
    "import matplotlib.pyplot as plt"
   ]
  },
  {
   "cell_type": "code",
   "execution_count": null,
   "id": "08a02abb-612b-4f55-a299-3fba3f7b2cd8",
   "metadata": {},
   "outputs": [],
   "source": [
    "# Choose dimension d equal to a power of 2, number of partitions p for the graph of reduced purity and any frequency w\n",
    "d = 16\n",
    "p = 4000\n",
    "w = 0.1"
   ]
  },
  {
   "cell_type": "code",
   "execution_count": null,
   "id": "fd7adcf9-1b5a-4ce3-8407-aff35a54f64a",
   "metadata": {},
   "outputs": [],
   "source": [
    "# Calculate the divisors of the integer n\n",
    "def get_all_divisors(n):\n",
    "    # Initialize a list to store all divisors\n",
    "    divisors = set()\n",
    "    \n",
    "    # Loop to find divisors\n",
    "    for i in range(1, int(n ** 0.5) + 1):\n",
    "        if n % i == 0:\n",
    "            # If i is a divisor, n // i is also a divisor\n",
    "            divisors.add(i)\n",
    "            divisors.add(n // i)\n",
    "    \n",
    "    # Return the divisors in ascending order\n",
    "    return sorted(divisors)"
   ]
  },
  {
   "cell_type": "code",
   "execution_count": null,
   "id": "911df70e-0299-4533-86ea-59548c53a8dc",
   "metadata": {},
   "outputs": [],
   "source": [
    "# Functions for calculating analytical Fourier modes and reduced purity\n",
    "def results(n):\n",
    "    # Auxiliary function for Fourier mode calculations\n",
    "    divisors = get_all_divisors(n)\n",
    "    z = len(divisors) - 1\n",
    "    R = sum(divisors)\n",
    "    z_red = int(np.ceil(z/2))\n",
    "    s = 0\n",
    "    zt = z + 1\n",
    "    for i in range(z_red, z + 1):\n",
    "        if divisors[i] >= d:\n",
    "            if divisors[i] != divisors[z - i]:\n",
    "                s += divisors[i] + divisors[z - i]\n",
    "                zt -= 2\n",
    "            else:\n",
    "                s += divisors[i]\n",
    "                zt -= 1\n",
    "    return R - s, zt\n",
    "\n",
    "def calc_alpha_n(n):\n",
    "    # Analytical calculation of Fourier modes\n",
    "    Rt, Zt = results(n)\n",
    "    if n <= (d - 1) * (d - 1):\n",
    "        return 4 / (d**4) * (Zt * (d**2 + n) - 2 * d * Rt)\n",
    "    else:\n",
    "        return 0\n",
    "\n",
    "def Trace_analytical(t):\n",
    "    # Analytical calculation of reduced purity\n",
    "    Tr_part = sum(calc_alpha_n(v) * np.cos(v * w * t) for v in range(1, (d - 1)**2 + 1))\n",
    "    Tr_analit = ((2 * d**3 - d**2) / d**4) + Tr_part\n",
    "    return Tr_analit"
   ]
  },
  {
   "cell_type": "code",
   "execution_count": null,
   "id": "91aea4fa-fabd-4ce1-a099-7c378588b6b9",
   "metadata": {},
   "outputs": [],
   "source": [
    "# Definition of the period T = 2pi/w, discretized into p partitions\n",
    "t_val = np.linspace(0, 2*np.pi / w, p)\n",
    "\n",
    "# Definition of the range of n, excluding n = 1\n",
    "n_val = np.arange(2, 2*d - 1)\n",
    "alpha_n = np.array([calc_alpha_n(n) for n in n_val])\n",
    "\n",
    "# Graph of the analytical reduced purity (trace)\n",
    "plt.plot(t_val, Trace_analytical(t_val), label='Analytical reduced purity', color='red')\n",
    "plt.xlabel('t')\n",
    "plt.ylabel(r'$Tr(\\rho_A^2)$')\n",
    "plt.title(f'Reduced purity vs time for $d = {d}$')\n",
    "plt.grid(True)\n",
    "plt.legend()\n",
    "plt.show()\n",
    "\n",
    "# Graph of the analytical Fourier modes\n",
    "plt.plot(n_val, alpha_n, marker='o', linestyle='-', label='Analytical Fourier modes', color='red')\n",
    "plt.xlabel('n')\n",
    "plt.ylabel(r'$\\alpha_n$')\n",
    "plt.title(f'Fourier modes for d = {d}')\n",
    "plt.grid(True)\n",
    "plt.legend()\n",
    "plt.show()"
   ]
  }
 ],
 "metadata": {
  "kernelspec": {
   "display_name": "Python 3 (ipykernel)",
   "language": "python",
   "name": "python3"
  },
  "language_info": {
   "codemirror_mode": {
    "name": "ipython",
    "version": 3
   },
   "file_extension": ".py",
   "mimetype": "text/x-python",
   "name": "python",
   "nbconvert_exporter": "python",
   "pygments_lexer": "ipython3",
   "version": "3.11.3"
  }
 },
 "nbformat": 4,
 "nbformat_minor": 5
}
