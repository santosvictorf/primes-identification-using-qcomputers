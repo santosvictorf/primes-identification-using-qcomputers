{
 "cells": [
  {
   "cell_type": "code",
   "execution_count": null,
   "id": "69d7bb7f-537f-4409-8579-1c68075c7c7b",
   "metadata": {},
   "outputs": [],
   "source": [
    "\"\"\"This code calculates the Walsh angles a_j and indices j for the diagonal unitary gate U(t). \n",
    "Then, it applies the corresponding Z-rotations and controlled-NOT gates and draws the quantum circuit.\"\"\""
   ]
  },
  {
   "cell_type": "code",
   "execution_count": null,
   "id": "c98dd016-f13c-45f7-bbfd-ad2bab50792a",
   "metadata": {},
   "outputs": [],
   "source": [
    "from qiskit import QuantumCircuit\n",
    "import numpy as np\n",
    "from qiskit.circuit import Parameter"
   ]
  },
  {
   "cell_type": "code",
   "execution_count": null,
   "id": "c3746b2d-45d1-4507-a186-73b3748cfea1",
   "metadata": {},
   "outputs": [],
   "source": [
    "#Choose any dimension d\n",
    "d = 16"
   ]
  },
  {
   "cell_type": "code",
   "execution_count": null,
   "id": "bd573390-9bd2-4e31-a552-1ad6d08bd05a",
   "metadata": {},
   "outputs": [],
   "source": [
    "# Calculate the number of qubits q based on the value of d\n",
    "q = 2*int(np.ceil(np.log(d) / np.log(2)))\n",
    "\n",
    "# Initialize the analytical number of non-null Walsh angles and the angles/indices arrays\n",
    "num_angles = int(q**2/4 + q)\n",
    "a_j = np.zeros(num_angles, dtype=int)\n",
    "indices = np.zeros(num_angles, dtype=int)\n",
    "\n",
    "# Pre-calculate constants for angle computations\n",
    "result_h1 = -(8**(q/2))*(1+2**(q/2))/8\n",
    "result_h2 = (4**q)/16\n",
    "\n",
    "# Calculate angles and indices\n",
    "for j1 in range(int(q/2)):\n",
    "    base_index = j1 + (j1+1)*int(q/2)\n",
    "    \n",
    "    a_j[j1] = result_h1/(2**j1)\n",
    "    a_j[base_index] = a_j[j1]\n",
    "    \n",
    "    indices[j1] = 2**j1\n",
    "    indices[base_index] = 2**(j1 + int(q/2))\n",
    "\n",
    "    for j2 in range(int(q/2)):\n",
    "        offset_index = base_index + j2 + 1\n",
    "        a_j[offset_index] = result_h2/(2**(j2+j1))\n",
    "        indices[offset_index] = indices[base_index] + 2**j2\n",
    "\n",
    "# Show the results for both a_j and j\n",
    "print (\"Walsh angles:\",a_j)\n",
    "print (\"Indices:\",indices)"
   ]
  },
  {
   "cell_type": "code",
   "execution_count": null,
   "id": "a86cb54e-076e-460a-9c70-ef8525ff6884",
   "metadata": {},
   "outputs": [],
   "source": [
    "# Create a Quantum Circuit\n",
    "QuantumCircuit = QuantumCircuit(q)\n",
    "\n",
    "# Symbolically define the relevant angles theta_j(t) = -2a_j(t) = 2(wt/d²)a_j\n",
    "theta_j = {index: Parameter(f'$θ_{{{index}}}(t)$') for index in np.unique(indices)}\n",
    "\n",
    "# Function to apply controlled operations and rotation\n",
    "def gates(position):\n",
    "    binary_str = format(indices[position], f'0{q}b')[::-1]    \n",
    "    msb_index = binary_str.rfind('1')\n",
    "\n",
    "    # Apply controlled operations\n",
    "    for i in range(q):\n",
    "        if binary_str[i] == '1':\n",
    "            if i != msb_index:\n",
    "                QuantumCircuit.cx(i, msb_index)\n",
    "    \n",
    "    # Apply rotation gate\n",
    "    QuantumCircuit.rz(theta_j[indices[position]], msb_index)\n",
    "    \n",
    "    # Apply controlled operations in reverse order\n",
    "    for i in reversed(range(q)):\n",
    "        if binary_str[i] == '1':\n",
    "            if i != msb_index:\n",
    "                QuantumCircuit.cx(i, msb_index)\n",
    "\n",
    "# Apply gates based on the calculated angles and indices\n",
    "for position in range(num_angles):\n",
    "    gates(position)\n",
    "\n",
    "# Display the circuit\n",
    "QuantumCircuit.draw(output='mpl')"
   ]
  }
 ],
 "metadata": {
  "kernelspec": {
   "display_name": "Python 3 (ipykernel)",
   "language": "python",
   "name": "python3"
  },
  "language_info": {
   "codemirror_mode": {
    "name": "ipython",
    "version": 3
   },
   "file_extension": ".py",
   "mimetype": "text/x-python",
   "name": "python",
   "nbconvert_exporter": "python",
   "pygments_lexer": "ipython3",
   "version": "3.11.3"
  }
 },
 "nbformat": 4,
 "nbformat_minor": 5
}
