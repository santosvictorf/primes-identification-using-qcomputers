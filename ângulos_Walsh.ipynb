{
 "cells": [
  {
   "cell_type": "code",
   "execution_count": 1,
   "id": "d9ea7100-3d34-43e1-b501-6ca8b3305f73",
   "metadata": {},
   "outputs": [
    {
     "name": "stdout",
     "output_type": "stream",
     "text": [
      "[ 8704  4352  2176  1088  8704 -4096 -2048 -1024  -512  4352 -2048 -1024\n",
      "  -512  -256  2176 -1024  -512  -256  -128  1088  -512  -256  -128   -64]\n",
      "[  1   2   4   8  16  17  18  20  24  32  33  34  36  40  64  65  66  68\n",
      "  72 128 129 130 132 136]\n"
     ]
    }
   ],
   "source": [
    "#This code calculates the non-null Walsh angles a_j and their respective indices j.\n",
    "\n",
    "import numpy as np\n",
    "\n",
    "\"\"\"Choose any value for d. This part will automatically convert it for an even number of qubits q\"\"\"\n",
    "d = 16\n",
    "q = 2 * int(np.ceil(np.log(d) / np.log(2)))\n",
    "num_angles = int(q**2/4 + q)\n",
    "a_j = np.zeros(num_angles, dtype=int)\n",
    "indices = np.zeros(num_angles, dtype=int)\n",
    "\n",
    "\"\"\"Pre-calculate constants for angle computations\"\"\"\n",
    "result_h1 = (2**q)*(1+2**(q/2))*(2**(q/2))/8\n",
    "result_h2 = -2**(2*q)/16\n",
    "\n",
    "\"\"\"Calculate angles and the respective indices\"\"\"\n",
    "for j1 in range(int(q/2)):\n",
    "    base_index = j1 + (j1+1)*int(q/2)\n",
    "    \n",
    "    a_j[j1] = result_h1/(2**j1)\n",
    "    a_j[base_index] = a_j[j1]\n",
    "    \n",
    "    indices[j1] = 2**j1\n",
    "    indices[base_index] = 2**(j1 + int(q/2))\n",
    "\n",
    "    for j2 in range(int(q/2)):\n",
    "        offset_index = base_index + j2 + 1\n",
    "        a_j[offset_index] = result_h2/(2**(j2+j1))\n",
    "        indices[offset_index] = indices[base_index] + 2**j2\n",
    "\n",
    "\"\"\"Shows the value of both a_j and j\"\"\"\n",
    "print (a_j)\n",
    "print (indices)"
   ]
  }
 ],
 "metadata": {
  "kernelspec": {
   "display_name": "Python 3 (ipykernel)",
   "language": "python",
   "name": "python3"
  },
  "language_info": {
   "codemirror_mode": {
    "name": "ipython",
    "version": 3
   },
   "file_extension": ".py",
   "mimetype": "text/x-python",
   "name": "python",
   "nbconvert_exporter": "python",
   "pygments_lexer": "ipython3",
   "version": "3.11.3"
  }
 },
 "nbformat": 4,
 "nbformat_minor": 5
}
